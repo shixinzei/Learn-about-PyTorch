{
 "cells": [
  {
   "cell_type": "markdown",
   "metadata": {},
   "source": [
    "# Tensors (张量)\n",
    "Tensors 类似于 NumPy 的 ndarrays ，同时 Tensors 可以使用 GPU 进行计算。"
   ]
  },
  {
   "cell_type": "code",
   "execution_count": 11,
   "metadata": {},
   "outputs": [],
   "source": [
    "from __future__ import print_function\n",
    "import torch"
   ]
  },
  {
   "cell_type": "code",
   "execution_count": 12,
   "metadata": {},
   "outputs": [
    {
     "name": "stdout",
     "output_type": "stream",
     "text": [
      "tensor([[0., 0., 0.],\n",
      "        [0., 0., 0.],\n",
      "        [0., 0., 0.],\n",
      "        [0., 0., 0.],\n",
      "        [0., 0., 0.]])\n"
     ]
    }
   ],
   "source": [
    "# 构造一个5x3矩阵，不初始化。\n",
    "x = torch.empty(5,3)\n",
    "print(x)"
   ]
  },
  {
   "cell_type": "code",
   "execution_count": 13,
   "metadata": {},
   "outputs": [
    {
     "name": "stdout",
     "output_type": "stream",
     "text": [
      "tensor([[0.4833, 0.7849, 0.4319],\n",
      "        [0.4646, 0.4915, 0.6638],\n",
      "        [0.6432, 0.1048, 0.8633],\n",
      "        [0.4732, 0.4428, 0.8005],\n",
      "        [0.0137, 0.3517, 0.3389]])\n"
     ]
    }
   ],
   "source": [
    "# 构造一个随机初始化的矩阵：\n",
    "x = torch.rand(5,3)\n",
    "print(x)"
   ]
  },
  {
   "cell_type": "code",
   "execution_count": 14,
   "metadata": {},
   "outputs": [
    {
     "name": "stdout",
     "output_type": "stream",
     "text": [
      "tensor([[0, 0, 0],\n",
      "        [0, 0, 0],\n",
      "        [0, 0, 0],\n",
      "        [0, 0, 0],\n",
      "        [0, 0, 0]])\n"
     ]
    }
   ],
   "source": [
    "# 构造一个矩阵全为 0，而且数据类型是 long.\n",
    "x = torch.zeros(5, 3, dtype=torch.long)\n",
    "print(x)"
   ]
  },
  {
   "cell_type": "code",
   "execution_count": 15,
   "metadata": {},
   "outputs": [
    {
     "name": "stdout",
     "output_type": "stream",
     "text": [
      "tensor([5.5000, 3.0000])\n"
     ]
    }
   ],
   "source": [
    "# 构造一个张量，直接使用数据\n",
    "x = torch.tensor([5.5, 3])\n",
    "print(x)"
   ]
  },
  {
   "cell_type": "code",
   "execution_count": 17,
   "metadata": {},
   "outputs": [
    {
     "name": "stdout",
     "output_type": "stream",
     "text": [
      "tensor([[1., 1., 1.],\n",
      "        [1., 1., 1.],\n",
      "        [1., 1., 1.],\n",
      "        [1., 1., 1.],\n",
      "        [1., 1., 1.]], dtype=torch.float64)\n",
      "tensor([[0.1398, 0.7834, 0.4348],\n",
      "        [0.0973, 0.1944, 0.0866],\n",
      "        [0.9140, 0.2526, 0.0718],\n",
      "        [0.5142, 0.8575, 0.4582],\n",
      "        [0.7659, 0.8900, 0.5748]])\n"
     ]
    }
   ],
   "source": [
    "# 创建一个 tensor 基于已经存在的 tensor\n",
    "x = x.new_ones(5,3,dtype=torch.double)\n",
    "print(x)\n",
    "\n",
    "x = torch.rand_like(x, dtype=torch.float)\n",
    "print(x)"
   ]
  },
  {
   "cell_type": "code",
   "execution_count": 20,
   "metadata": {},
   "outputs": [
    {
     "name": "stdout",
     "output_type": "stream",
     "text": [
      "torch.Size([5, 3])\n"
     ]
    }
   ],
   "source": [
    "# 获取它的维度信息\n",
    "print(x.size())"
   ]
  },
  {
   "cell_type": "code",
   "execution_count": 21,
   "metadata": {},
   "outputs": [],
   "source": [
    "# torch.Size 是一个元组，所以它支持左右的元组操作。"
   ]
  },
  {
   "cell_type": "markdown",
   "metadata": {},
   "source": [
    "# 加法操作"
   ]
  },
  {
   "cell_type": "code",
   "execution_count": 22,
   "metadata": {},
   "outputs": [
    {
     "name": "stdout",
     "output_type": "stream",
     "text": [
      "tensor([[0.7108, 1.4392, 1.1150],\n",
      "        [0.5464, 0.6898, 0.1647],\n",
      "        [1.2776, 0.3491, 0.5928],\n",
      "        [1.2971, 1.6859, 1.1811],\n",
      "        [1.2300, 1.1283, 1.5063]])\n"
     ]
    }
   ],
   "source": [
    "# 加法方式一：\n",
    "y = torch.rand(5, 3)\n",
    "print(x + y)"
   ]
  },
  {
   "cell_type": "code",
   "execution_count": 23,
   "metadata": {},
   "outputs": [
    {
     "name": "stdout",
     "output_type": "stream",
     "text": [
      "tensor([[0.7108, 1.4392, 1.1150],\n",
      "        [0.5464, 0.6898, 0.1647],\n",
      "        [1.2776, 0.3491, 0.5928],\n",
      "        [1.2971, 1.6859, 1.1811],\n",
      "        [1.2300, 1.1283, 1.5063]])\n"
     ]
    }
   ],
   "source": [
    "# 加法方式二：\n",
    "print(torch.add(x, y))"
   ]
  },
  {
   "cell_type": "code",
   "execution_count": 24,
   "metadata": {},
   "outputs": [
    {
     "name": "stdout",
     "output_type": "stream",
     "text": [
      "tensor([[0.7108, 1.4392, 1.1150],\n",
      "        [0.5464, 0.6898, 0.1647],\n",
      "        [1.2776, 0.3491, 0.5928],\n",
      "        [1.2971, 1.6859, 1.1811],\n",
      "        [1.2300, 1.1283, 1.5063]])\n"
     ]
    }
   ],
   "source": [
    "# 加法: 提供一个输出 tensor 作为参数\n",
    "result = torch.empty(5, 3)\n",
    "torch.add(x, y, out=result)\n",
    "print(result)"
   ]
  },
  {
   "cell_type": "code",
   "execution_count": 25,
   "metadata": {},
   "outputs": [
    {
     "name": "stdout",
     "output_type": "stream",
     "text": [
      "tensor([[0.7108, 1.4392, 1.1150],\n",
      "        [0.5464, 0.6898, 0.1647],\n",
      "        [1.2776, 0.3491, 0.5928],\n",
      "        [1.2971, 1.6859, 1.1811],\n",
      "        [1.2300, 1.1283, 1.5063]])\n"
     ]
    }
   ],
   "source": [
    "# 加法: in-place\n",
    "y.add_(x)\n",
    "print(y)"
   ]
  },
  {
   "cell_type": "code",
   "execution_count": 26,
   "metadata": {},
   "outputs": [],
   "source": [
    "# 注意 任何使张量会发生变化的操作都有一个前缀 '_'"
   ]
  },
  {
   "cell_type": "code",
   "execution_count": 27,
   "metadata": {},
   "outputs": [
    {
     "name": "stdout",
     "output_type": "stream",
     "text": [
      "tensor([0.7834, 0.1944, 0.2526, 0.8575, 0.8900])\n"
     ]
    }
   ],
   "source": [
    "# 使用标准的  NumPy 类似的索引操作\n",
    "print(x[:, 1])"
   ]
  },
  {
   "cell_type": "code",
   "execution_count": 29,
   "metadata": {},
   "outputs": [
    {
     "name": "stdout",
     "output_type": "stream",
     "text": [
      "torch.Size([4, 4])\n",
      "torch.Size([16])\n",
      "torch.Size([2, 8])\n"
     ]
    }
   ],
   "source": [
    "# 改变大小：如果你想改变一个 tensor 的大小或者形状，你可以使用 torch.view\n",
    "\n",
    "x = torch.randn(4, 4)\n",
    "y = x.view(16)\n",
    "z = x.view(-1,8)  # the size -1 is inferred from other dimensions\n",
    "print(x.size())\n",
    "print(y.size())\n",
    "print(z.size())"
   ]
  },
  {
   "cell_type": "code",
   "execution_count": 31,
   "metadata": {},
   "outputs": [
    {
     "name": "stdout",
     "output_type": "stream",
     "text": [
      "tensor([-1.1646])\n",
      "-1.16457200050354\n"
     ]
    }
   ],
   "source": [
    "# 如果你有一个元素 tensor ，使用 .item() 来获得这个 value\n",
    "x = torch.randn(1)\n",
    "print(x)\n",
    "print(x.item())"
   ]
  },
  {
   "cell_type": "code",
   "execution_count": null,
   "metadata": {},
   "outputs": [],
   "source": []
  }
 ],
 "metadata": {
  "kernelspec": {
   "display_name": "Python 3",
   "language": "python",
   "name": "python3"
  },
  "language_info": {
   "codemirror_mode": {
    "name": "ipython",
    "version": 3
   },
   "file_extension": ".py",
   "mimetype": "text/x-python",
   "name": "python",
   "nbconvert_exporter": "python",
   "pygments_lexer": "ipython3",
   "version": "3.6.2"
  }
 },
 "nbformat": 4,
 "nbformat_minor": 2
}
