{
 "cells": [
  {
   "cell_type": "markdown",
   "metadata": {},
   "source": [
    "# 什么是 PyTorch?\n",
    "PyTorch 是一个基于 Python 的科学计算包，主要定位两类人群：\n",
    "\n",
    "NumPy 的替代品，可以利用 GPU 的性能进行计算。\n",
    "\n",
    "深度学习研究平台拥有足够的灵活性和速度"
   ]
  },
  {
   "cell_type": "code",
   "execution_count": 2,
   "metadata": {},
   "outputs": [],
   "source": [
    "import torch"
   ]
  },
  {
   "cell_type": "code",
   "execution_count": 3,
   "metadata": {},
   "outputs": [],
   "source": [
    "import torchvision"
   ]
  },
  {
   "cell_type": "code",
   "execution_count": 4,
   "metadata": {},
   "outputs": [
    {
     "name": "stdout",
     "output_type": "stream",
     "text": [
      "<module 'torch' from 'C:\\\\ProgramData\\\\Anaconda3\\\\envs\\\\tensorflow36\\\\lib\\\\site-packages\\\\torch\\\\__init__.py'>\n"
     ]
    }
   ],
   "source": [
    "print(torch)"
   ]
  },
  {
   "cell_type": "code",
   "execution_count": 6,
   "metadata": {},
   "outputs": [
    {
     "name": "stdout",
     "output_type": "stream",
     "text": [
      "<module 'torch.version' from 'C:\\\\ProgramData\\\\Anaconda3\\\\envs\\\\tensorflow36\\\\lib\\\\site-packages\\\\torch\\\\version.py'>\n"
     ]
    }
   ],
   "source": [
    "print(torch.version)"
   ]
  },
  {
   "cell_type": "code",
   "execution_count": 9,
   "metadata": {},
   "outputs": [
    {
     "name": "stdout",
     "output_type": "stream",
     "text": [
      "<module 'torchvision' from 'C:\\\\ProgramData\\\\Anaconda3\\\\envs\\\\tensorflow36\\\\lib\\\\site-packages\\\\torchvision\\\\__init__.py'>\n"
     ]
    }
   ],
   "source": [
    "print(torchvision)"
   ]
  },
  {
   "cell_type": "code",
   "execution_count": 10,
   "metadata": {},
   "outputs": [
    {
     "name": "stdout",
     "output_type": "stream",
     "text": [
      "<module 'torchvision.version' from 'C:\\\\ProgramData\\\\Anaconda3\\\\envs\\\\tensorflow36\\\\lib\\\\site-packages\\\\torchvision\\\\version.py'>\n"
     ]
    }
   ],
   "source": [
    "print(torchvision.version)"
   ]
  },
  {
   "cell_type": "code",
   "execution_count": 5,
   "metadata": {
    "scrolled": true
   },
   "outputs": [
    {
     "name": "stdout",
     "output_type": "stream",
     "text": [
      "tensor([[0.0438, 0.2782, 0.5386],\n",
      "        [0.8500, 0.9920, 0.8846],\n",
      "        [0.2925, 0.1370, 0.4700],\n",
      "        [0.7737, 0.5163, 0.6651],\n",
      "        [0.8616, 0.6885, 0.2383]])\n"
     ]
    }
   ],
   "source": [
    "import torch\n",
    "\n",
    "x = torch.rand(5,3)\n",
    "print(x)"
   ]
  },
  {
   "cell_type": "code",
   "execution_count": null,
   "metadata": {},
   "outputs": [],
   "source": []
  }
 ],
 "metadata": {
  "kernelspec": {
   "display_name": "Python 3",
   "language": "python",
   "name": "python3"
  },
  "language_info": {
   "codemirror_mode": {
    "name": "ipython",
    "version": 3
   },
   "file_extension": ".py",
   "mimetype": "text/x-python",
   "name": "python",
   "nbconvert_exporter": "python",
   "pygments_lexer": "ipython3",
   "version": "3.6.2"
  }
 },
 "nbformat": 4,
 "nbformat_minor": 2
}
